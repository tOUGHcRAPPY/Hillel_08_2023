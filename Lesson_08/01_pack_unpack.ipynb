{
 "cells": [
  {
   "cell_type": "code",
   "execution_count": 5,
   "metadata": {},
   "outputs": [],
   "source": [
    "def foo(*args, **kwargs):\n",
    "    print(args)\n",
    "    print(kwargs)"
   ]
  },
  {
   "cell_type": "code",
   "execution_count": 6,
   "metadata": {},
   "outputs": [
    {
     "name": "stdout",
     "output_type": "stream",
     "text": [
      "('First message', 'Second message')\n",
      "{}\n"
     ]
    }
   ],
   "source": [
    "foo(\"First message\", \"Second message\")"
   ]
  },
  {
   "cell_type": "code",
   "execution_count": 7,
   "metadata": {},
   "outputs": [
    {
     "name": "stdout",
     "output_type": "stream",
     "text": [
      "()\n",
      "{'arg_1': 'One', 'arg_2': 'Two'}\n"
     ]
    }
   ],
   "source": [
    "foo(arg_1=\"One\", arg_2=\"Two\")"
   ]
  },
  {
   "cell_type": "code",
   "execution_count": 10,
   "metadata": {},
   "outputs": [
    {
     "name": "stdout",
     "output_type": "stream",
     "text": [
      "('Positional argument',)\n",
      "{'not_position': 'Key argument'}\n"
     ]
    }
   ],
   "source": [
    "foo(\"Positional argument\", not_position=\"Key argument\")"
   ]
  },
  {
   "cell_type": "code",
   "execution_count": 15,
   "metadata": {},
   "outputs": [
    {
     "name": "stdout",
     "output_type": "stream",
     "text": [
      "('John', 'Marry')\n",
      "{'surnames': ['Meket', 'Popins']}\n"
     ]
    }
   ],
   "source": [
    "names = [\"John\", \"Marry\"]\n",
    "surnames = {\"surnames\": [\"Meket\", \"Popins\"]}\n",
    "foo(*names, **surnames)"
   ]
  },
  {
   "cell_type": "code",
   "execution_count": 16,
   "metadata": {},
   "outputs": [
    {
     "name": "stdout",
     "output_type": "stream",
     "text": [
      "()\n",
      "{'names': ['John', 'Marry'], 'age': [13, 12]}\n"
     ]
    }
   ],
   "source": [
    "people = {\"names\": [\"John\", \"Marry\"], \"age\": [13, 12]}\n",
    "foo(**people)"
   ]
  },
  {
   "cell_type": "code",
   "execution_count": 20,
   "metadata": {},
   "outputs": [
    {
     "name": "stdout",
     "output_type": "stream",
     "text": [
      "('names', 'age')\n",
      "{}\n",
      "names ['John', 'Marry']\n",
      "age [13, 12]\n"
     ]
    }
   ],
   "source": [
    "people = {\"names\": [\"John\", \"Marry\"], \"age\": [13, 12]}\n",
    "foo(*people)\n",
    "for names, age in people.items():\n",
    "    print(names, age)"
   ]
  },
  {
   "cell_type": "code",
   "execution_count": 22,
   "metadata": {},
   "outputs": [],
   "source": [
    "def is_name_exists(**kwargs):\n",
    "    name = kwargs.get(\"name\")\n",
    "    if not name:\n",
    "        raise Exception()\n",
    "    if name == \"John\":\n",
    "        print(f\"Name {name} is exists.\")\n",
    "    return"
   ]
  },
  {
   "cell_type": "code",
   "execution_count": 24,
   "metadata": {},
   "outputs": [
    {
     "name": "stdout",
     "output_type": "stream",
     "text": [
      "Name John is exists.\n"
     ]
    }
   ],
   "source": [
    "names = {\"name\": \"John\", \"age\": 13}\n",
    "is_name_exists(**names)"
   ]
  }
 ],
 "metadata": {
  "kernelspec": {
   "display_name": "Hillel_08_2023-3_QZchuq",
   "language": "python",
   "name": "python3"
  },
  "language_info": {
   "codemirror_mode": {
    "name": "ipython",
    "version": 3
   },
   "file_extension": ".py",
   "mimetype": "text/x-python",
   "name": "python",
   "nbconvert_exporter": "python",
   "pygments_lexer": "ipython3",
   "version": "3.11.4"
  },
  "orig_nbformat": 4
 },
 "nbformat": 4,
 "nbformat_minor": 2
}
