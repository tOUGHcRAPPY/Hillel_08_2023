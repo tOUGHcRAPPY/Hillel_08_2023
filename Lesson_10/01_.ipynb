{
 "cells": [
  {
   "cell_type": "code",
   "execution_count": null,
   "metadata": {},
   "outputs": [],
   "source": [
    "from dataclasses import dataclass\n",
    "\n",
    "class PaymentSystem:\n",
    "  def __init__(self, name: str):\n",
    "    self.name = name\n",
    "\n",
    "  def pay(self, amount: float) -> None:\n",
    "    print(f\"Paying {amount} using {self.name}\")\n",
    "\n",
    "\n",
    "@dataclass\n",
    "class Product:\n",
    "  name: str\n",
    "  price: float\n",
    "\n",
    "\n",
    "  def buy(self, quantity: int, payment_system: PaymentSystem) -> float:\n",
    "    total = self.price * quantity\n",
    "    payment_system.pay(total)\n",
    "    return total\n",
    "  \n",
    "\n",
    "phone = Product(\"iPhone\", 999.99)\n",
    "paypall = PaymentSystem(\"PayPall\")\n",
    "\n",
    "phone.buy(2, paypall)"
   ]
  }
 ],
 "metadata": {
  "language_info": {
   "name": "python"
  },
  "orig_nbformat": 4
 },
 "nbformat": 4,
 "nbformat_minor": 2
}
